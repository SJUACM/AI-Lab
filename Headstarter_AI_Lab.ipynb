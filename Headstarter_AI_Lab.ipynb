{
  "nbformat": 4,
  "nbformat_minor": 0,
  "metadata": {
    "colab": {
      "provenance": []
    },
    "kernelspec": {
      "name": "python3",
      "display_name": "Python 3"
    },
    "language_info": {
      "name": "python"
    }
  },
  "cells": [
    {
      "cell_type": "markdown",
      "source": [
        "# Install the necessary Python Packages"
      ],
      "metadata": {
        "id": "L_Kg9pViwBXO"
      }
    },
    {
      "cell_type": "code",
      "source": [
        "! pip install openai\n",
        "! pip install pydub\n",
        "! pip install fpdf\n",
        "! pip install PyPDF2"
      ],
      "metadata": {
        "id": "2hraicEbuBEj",
        "colab": {
          "base_uri": "https://localhost:8080/"
        },
        "outputId": "abe678b6-57cc-4864-a03d-b7f2df117048"
      },
      "execution_count": 3,
      "outputs": [
        {
          "output_type": "stream",
          "name": "stdout",
          "text": [
            "Collecting openai\n",
            "  Downloading openai-1.2.4-py3-none-any.whl (220 kB)\n",
            "\u001b[?25l     \u001b[90m━━━━━━━━━━━━━━━━━━━━━━━━━━━━━━━━━━━━━━━━\u001b[0m \u001b[32m0.0/220.2 kB\u001b[0m \u001b[31m?\u001b[0m eta \u001b[36m-:--:--\u001b[0m\r\u001b[2K     \u001b[91m━━━━━━━━━━━━━━━━━━━━━━━━━━━━━━━\u001b[0m\u001b[91m╸\u001b[0m\u001b[90m━━━━━━━━\u001b[0m \u001b[32m174.1/220.2 kB\u001b[0m \u001b[31m5.2 MB/s\u001b[0m eta \u001b[36m0:00:01\u001b[0m\r\u001b[2K     \u001b[90m━━━━━━━━━━━━━━━━━━━━━━━━━━━━━━━━━━━━━━━━\u001b[0m \u001b[32m220.2/220.2 kB\u001b[0m \u001b[31m5.0 MB/s\u001b[0m eta \u001b[36m0:00:00\u001b[0m\n",
            "\u001b[?25hRequirement already satisfied: anyio<4,>=3.5.0 in /usr/local/lib/python3.10/dist-packages (from openai) (3.7.1)\n",
            "Requirement already satisfied: distro<2,>=1.7.0 in /usr/lib/python3/dist-packages (from openai) (1.7.0)\n",
            "Collecting httpx<1,>=0.23.0 (from openai)\n",
            "  Downloading httpx-0.25.1-py3-none-any.whl (75 kB)\n",
            "\u001b[2K     \u001b[90m━━━━━━━━━━━━━━━━━━━━━━━━━━━━━━━━━━━━━━━━\u001b[0m \u001b[32m75.0/75.0 kB\u001b[0m \u001b[31m8.4 MB/s\u001b[0m eta \u001b[36m0:00:00\u001b[0m\n",
            "\u001b[?25hRequirement already satisfied: pydantic<3,>=1.9.0 in /usr/local/lib/python3.10/dist-packages (from openai) (1.10.13)\n",
            "Requirement already satisfied: tqdm>4 in /usr/local/lib/python3.10/dist-packages (from openai) (4.66.1)\n",
            "Requirement already satisfied: typing-extensions<5,>=4.5 in /usr/local/lib/python3.10/dist-packages (from openai) (4.5.0)\n",
            "Requirement already satisfied: idna>=2.8 in /usr/local/lib/python3.10/dist-packages (from anyio<4,>=3.5.0->openai) (3.4)\n",
            "Requirement already satisfied: sniffio>=1.1 in /usr/local/lib/python3.10/dist-packages (from anyio<4,>=3.5.0->openai) (1.3.0)\n",
            "Requirement already satisfied: exceptiongroup in /usr/local/lib/python3.10/dist-packages (from anyio<4,>=3.5.0->openai) (1.1.3)\n",
            "Requirement already satisfied: certifi in /usr/local/lib/python3.10/dist-packages (from httpx<1,>=0.23.0->openai) (2023.7.22)\n",
            "Collecting httpcore (from httpx<1,>=0.23.0->openai)\n",
            "  Downloading httpcore-1.0.2-py3-none-any.whl (76 kB)\n",
            "\u001b[2K     \u001b[90m━━━━━━━━━━━━━━━━━━━━━━━━━━━━━━━━━━━━━━━━\u001b[0m \u001b[32m76.9/76.9 kB\u001b[0m \u001b[31m6.4 MB/s\u001b[0m eta \u001b[36m0:00:00\u001b[0m\n",
            "\u001b[?25hCollecting h11<0.15,>=0.13 (from httpcore->httpx<1,>=0.23.0->openai)\n",
            "  Downloading h11-0.14.0-py3-none-any.whl (58 kB)\n",
            "\u001b[2K     \u001b[90m━━━━━━━━━━━━━━━━━━━━━━━━━━━━━━━━━━━━━━━━\u001b[0m \u001b[32m58.3/58.3 kB\u001b[0m \u001b[31m5.5 MB/s\u001b[0m eta \u001b[36m0:00:00\u001b[0m\n",
            "\u001b[?25hInstalling collected packages: h11, httpcore, httpx, openai\n",
            "\u001b[31mERROR: pip's dependency resolver does not currently take into account all the packages that are installed. This behaviour is the source of the following dependency conflicts.\n",
            "llmx 0.0.15a0 requires cohere, which is not installed.\n",
            "llmx 0.0.15a0 requires tiktoken, which is not installed.\u001b[0m\u001b[31m\n",
            "\u001b[0mSuccessfully installed h11-0.14.0 httpcore-1.0.2 httpx-0.25.1 openai-1.2.4\n",
            "Collecting pydub\n",
            "  Downloading pydub-0.25.1-py2.py3-none-any.whl (32 kB)\n",
            "Installing collected packages: pydub\n",
            "Successfully installed pydub-0.25.1\n",
            "Collecting fpdf\n",
            "  Downloading fpdf-1.7.2.tar.gz (39 kB)\n",
            "  Preparing metadata (setup.py) ... \u001b[?25l\u001b[?25hdone\n",
            "Building wheels for collected packages: fpdf\n",
            "  Building wheel for fpdf (setup.py) ... \u001b[?25l\u001b[?25hdone\n",
            "  Created wheel for fpdf: filename=fpdf-1.7.2-py2.py3-none-any.whl size=40703 sha256=b7c52511bb5de67e62163642748f6278d0e055c482769985b150c7ae4dac2c43\n",
            "  Stored in directory: /root/.cache/pip/wheels/f9/95/ba/f418094659025eb9611f17cbcaf2334236bf39a0c3453ea455\n",
            "Successfully built fpdf\n",
            "Installing collected packages: fpdf\n",
            "Successfully installed fpdf-1.7.2\n",
            "Collecting PyPDF2\n",
            "  Downloading pypdf2-3.0.1-py3-none-any.whl (232 kB)\n",
            "\u001b[2K     \u001b[90m━━━━━━━━━━━━━━━━━━━━━━━━━━━━━━━━━━━━━━━━\u001b[0m \u001b[32m232.6/232.6 kB\u001b[0m \u001b[31m4.9 MB/s\u001b[0m eta \u001b[36m0:00:00\u001b[0m\n",
            "\u001b[?25hInstalling collected packages: PyPDF2\n",
            "Successfully installed PyPDF2-3.0.1\n"
          ]
        }
      ]
    },
    {
      "cell_type": "markdown",
      "source": [
        "# Import Libraries"
      ],
      "metadata": {
        "id": "_BLtO7xnv_oP"
      }
    },
    {
      "cell_type": "code",
      "execution_count": 4,
      "metadata": {
        "id": "HKhfvajctc98"
      },
      "outputs": [],
      "source": [
        "from google.colab import userdata\n",
        "import requests\n",
        "import base64\n",
        "from openai import OpenAI\n",
        "import io\n",
        "from pydub import AudioSegment\n",
        "from pydub.playback import play\n",
        "from IPython.display import Audio, display\n",
        "import PyPDF2\n",
        "\n",
        "#\n",
        "client = OpenAI(api_key=\"INSERT YOUR OPENAI_API_KEY HERE\")"
      ]
    },
    {
      "cell_type": "markdown",
      "source": [
        "# Chat Completions"
      ],
      "metadata": {
        "id": "Iy4QrnwOv3jd"
      }
    },
    {
      "cell_type": "code",
      "source": [
        "def stream_gpt(query, model):\n",
        "\n",
        "    completion = client.chat.completions.create(\n",
        "        model=model,\n",
        "        messages = [\n",
        "            {\"role\": \"system\", \"content\": \"You are a helpful assistant\"},\n",
        "            {\"role\": \"user\", \"content\": query}\n",
        "        ],\n",
        "        stream=True\n",
        "    )\n",
        "\n",
        "    for chunk in completion:\n",
        "        print(chunk.choices[0].delta.content, end='')\n",
        "\n"
      ],
      "metadata": {
        "id": "50hw3gSLuIB1"
      },
      "execution_count": 6,
      "outputs": []
    },
    {
      "cell_type": "code",
      "source": [
        "stream_gpt(query=\"Tell me about St. John's University\", model=\"gpt-3.5-turbo\")"
      ],
      "metadata": {
        "id": "VnKtrFOzuIED",
        "colab": {
          "base_uri": "https://localhost:8080/"
        },
        "outputId": "a4af4bb0-3a13-4693-8da7-2554e5335dfd"
      },
      "execution_count": 7,
      "outputs": [
        {
          "output_type": "stream",
          "name": "stdout",
          "text": [
            "St. John's University is a private Catholic university located in New York City. It was founded in 1870 and is one of the largest Catholic universities in the United States. Known for its diverse community, St. John's has campuses in Queens, Staten Island, Manhattan, and Rome, Italy.\n",
            "\n",
            "The university offers a wide range of academic programs, including over 100 undergraduate majors and minors, as well as various graduate and professional programs across disciplines such as business, law, education, pharmacy, and the sciences.\n",
            "\n",
            "St. John's University is committed to providing a well-rounded education that incorporates the values of the Catholic and Vincentian traditions. It focuses on developing the whole person by encouraging intellectual, spiritual, social, and ethical growth. The university also encourages students to engage in service and social justice activities, reflecting its commitment to the Vincentian mission.\n",
            "\n",
            "St. John's has a vibrant campus life with numerous student organizations, clubs, and activities. The university is also home to various sports teams known as the Red Storm. St. John's competes in NCAA Division I athletics and has a strong basketball program, notably participating in the Big East Conference.\n",
            "\n",
            "The university's location in New York City provides students with access to diverse cultural, entertainment, and professional opportunities. St. John's students have internship and networking opportunities at some of the world's leading companies and organizations.\n",
            "\n",
            "Overall, St. John's University offers a comprehensive educational experience that combines academic excellence with a commitment to community service and personal development.None"
          ]
        }
      ]
    },
    {
      "cell_type": "code",
      "source": [
        "stream_gpt(query=\"Tell me about St. John's University\", model=\"gpt-4\")"
      ],
      "metadata": {
        "id": "Juxe3UWmuIGj",
        "colab": {
          "base_uri": "https://localhost:8080/"
        },
        "outputId": "e1f7b9a6-f9bf-4cca-9596-048b4186b471"
      },
      "execution_count": 8,
      "outputs": [
        {
          "output_type": "stream",
          "name": "stdout",
          "text": [
            "St. John's University is a private, Roman Catholic, research university in New York City, United States. Founded by the Congregation of the Mission (C.M., the Vincentian Fathers) in 1870, the school was originally located in the neighborhood of Bedford–Stuyvesant in the borough of Brooklyn. In the 1950s, the school was relocated to its current site at Utopia Parkway in Hillcrest, Queens. St. John's also has campuses in Staten Island, Manhattan, and overseas in Rome, Italy.\n",
            "\n",
            "It offers more than 100 bachelor, master, and doctoral degree programs in six colleges and schools. The university is noted for its programs in Business (The Peter J. Tobin College of Business), Education (The School of Education), Pharmacy (The College of Pharmacy and Health Sciences), and Law (School of Law).\n",
            "\n",
            "The university is recognized for its diverse student population, representing 46 U.S states and 127 foreign countries. \n",
            "\n",
            "The school mascot is Johnny the Thunderbird and its sports teams participate in the NCAA Division I Big East Conference. \n",
            "\n",
            "As a Catholic university, St. John's emphasizes service and social justice alongside academics, offering numerous service opportunities for students throughout the year.None"
          ]
        }
      ]
    },
    {
      "cell_type": "code",
      "source": [],
      "metadata": {
        "id": "S9XpOI9FyqAD"
      },
      "execution_count": null,
      "outputs": []
    },
    {
      "cell_type": "code",
      "source": [],
      "metadata": {
        "id": "clYXnnu-3mFU"
      },
      "execution_count": null,
      "outputs": []
    },
    {
      "cell_type": "markdown",
      "source": [
        "# GPT-4 Vision"
      ],
      "metadata": {
        "id": "2gHRr6K73mZ4"
      }
    },
    {
      "cell_type": "code",
      "source": [
        "# Function to encode the image\n",
        "def encode_image(image_path):\n",
        "    with open(image_path, \"rb\") as image_file:\n",
        "        return base64.b64encode(image_file.read()).decode('utf-8')"
      ],
      "metadata": {
        "id": "q67wDrfo5JVz"
      },
      "execution_count": 9,
      "outputs": []
    },
    {
      "cell_type": "code",
      "source": [
        "def stream_gpt_vision(query, image_path):\n",
        "\n",
        "    base64_image = encode_image(image_path)\n",
        "    image_input = [\n",
        "        {\n",
        "            \"type\": \"text\",\n",
        "            \"text\": query,\n",
        "        },\n",
        "        {\n",
        "            \"type\": \"image_url\",\n",
        "            \"image_url\": {\n",
        "                \"url\": f\"data:image/jpeg;base64,{base64_image}\"\n",
        "            },\n",
        "        }\n",
        "    ]\n",
        "\n",
        "    completion = client.chat.completions.create(\n",
        "        model=\"gpt-4-vision-preview\",\n",
        "        messages = [\n",
        "            {\"role\": \"system\", \"content\": \"You are an expert at turning images of mock-up designs into full fledged code. Give me the HTML and CSS code to create a website like the image attached.\"},\n",
        "            {\"role\": \"user\", \"content\": image_input}\n",
        "        ],\n",
        "        max_tokens=500\n",
        "    )\n",
        "\n",
        "    print(completion.choices[0].message.content)\n",
        "    return completion\n",
        "\n",
        "\n",
        "\n",
        "\n"
      ],
      "metadata": {
        "id": "xFxCKWws3ntt"
      },
      "execution_count": 11,
      "outputs": []
    },
    {
      "cell_type": "code",
      "source": [
        "res = stream_gpt_vision(query=\"Give me the HTML and CSS code for the image attached\", image_path=\"/content/landing_page_example.png\")"
      ],
      "metadata": {
        "id": "X-GyUpLC6Gmx",
        "colab": {
          "base_uri": "https://localhost:8080/"
        },
        "outputId": "0efeebdb-490a-4b09-e86b-2eadb50ed292"
      },
      "execution_count": 12,
      "outputs": [
        {
          "output_type": "stream",
          "name": "stdout",
          "text": [
            "Certainly! Based on the design provided in the image, I'll outline the HTML and CSS structure to recreate a similar looking layout. For the shape around the \"Hero Image\" text, I'll use an abstract CSS shape through `clip-path`. This is just a basic outline and would need to be expanded upon for full interactivity and responsivity.\n",
            "\n",
            "Here's an approximate code representation:\n",
            "\n",
            "**HTML:**\n",
            "```html\n",
            "<!DOCTYPE html>\n",
            "<html lang=\"en\">\n",
            "<head>\n",
            "<meta charset=\"UTF-8\">\n",
            "<meta name=\"viewport\" content=\"width=device-width, initial-scale=1.0\">\n",
            "<title>Mockup Design</title>\n",
            "<link rel=\"stylesheet\" href=\"styles.css\">\n",
            "</head>\n",
            "<body>\n",
            "    <div class=\"container\">\n",
            "        <header>\n",
            "            <div class=\"menu\">☰</div>\n",
            "            <button class=\"contact\">Contact</button>\n",
            "        </header>\n",
            "        <main>\n",
            "            <section class=\"hero\">\n",
            "                <div class=\"headline\">\n",
            "                    <h1>A Thought-Provoking Headline</h1>\n",
            "                    <p>A quick value proposition that will make your visitors want to click on or sign up for your offer.</p>\n",
            "                    <div class=\"email-signup\">\n",
            "                        <input type=\"email\" placeholder=\"Insert email address\">\n",
            "                        <button class=\"signup\">Sign Up</button>\n",
            "                    </div>\n",
            "                    <div class=\"testimonial\">\n",
            "                        <div class=\"testimonial-icon\">👥</div>\n",
            "                        <div class=\"testimonial-info\">\n",
            "                            <span>Our Happy Customers</span>\n",
            "                            <span>★ 4.5 (100K Reviews)</span>\n",
            "                        </div>\n",
            "                    </div>\n",
            "                </div>\n",
            "                <div class=\"image-container\">\n",
            "                    <div class=\"hero-image\">\n",
            "                        <h2>Hero Image</h2>\n",
            "                        <p>that highlights your product or its value</p>\n",
            "                    </div>\n",
            "                </div>\n",
            "            </section>\n",
            "        </main>\n",
            "    </div>\n",
            "</body>\n",
            "</html>\n",
            "```\n",
            "\n",
            "**CSS:**\n",
            "```css\n",
            "* {\n",
            "    box-sizing: border-box;\n",
            "    margin: 0;\n",
            "    padding: 0;\n",
            "}\n",
            "\n",
            "body, button {\n",
            "    font-family: 'Arial', sans-serif;\n",
            "}\n",
            "\n",
            ".container {\n",
            "    max-width: 1200px;\n",
            "    margin: 0 auto;\n",
            "    background: #7b4dff;\n",
            "    color: white;\n",
            "    padding: 1em;\n",
            "    border-radius:\n"
          ]
        }
      ]
    },
    {
      "cell_type": "code",
      "source": [],
      "metadata": {
        "id": "KTR77s7D6XLg"
      },
      "execution_count": null,
      "outputs": []
    },
    {
      "cell_type": "code",
      "source": [],
      "metadata": {
        "id": "GtuaMVB27ImB"
      },
      "execution_count": null,
      "outputs": []
    },
    {
      "cell_type": "markdown",
      "source": [
        "# Text to Speech"
      ],
      "metadata": {
        "id": "MLTnWSZa8U1t"
      }
    },
    {
      "cell_type": "code",
      "source": [
        "def stream_text_as_audio(text):\n",
        "\n",
        "    response = client.audio.speech.create(\n",
        "        model = \"tts-1\",\n",
        "        voice=\"alloy\",\n",
        "        input=text\n",
        "    )\n",
        "\n",
        "    byte_stream = io.BytesIO(response.content)\n",
        "    audio = AudioSegment.from_file(byte_stream, format=\"mp3\")\n",
        "\n",
        "    return audio"
      ],
      "metadata": {
        "id": "NnJxMVd58ZwC"
      },
      "execution_count": 7,
      "outputs": []
    },
    {
      "cell_type": "code",
      "source": [
        "stream_text_as_audio(\"Hello world this is ACM here\")"
      ],
      "metadata": {
        "id": "V8mwIpyd7r5w",
        "colab": {
          "base_uri": "https://localhost:8080/",
          "height": 75
        },
        "outputId": "2c70824b-f19d-451e-cd74-fcb5e12c445e"
      },
      "execution_count": 8,
      "outputs": [
        {
          "output_type": "execute_result",
          "data": {
            "text/plain": [
              "<pydub.audio_segment.AudioSegment at 0x7bbda3209ea0>"
            ],
            "text/html": [
              "\n",
              "                    <audio controls>\n",
              "                        <source src=\"data:audio/mpeg;base64,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\" type=\"audio/mpeg\"/>\n",
              "                        Your browser does not support the audio element.\n",
              "                    </audio>\n",
              "                  "
            ]
          },
          "metadata": {},
          "execution_count": 8
        }
      ]
    },
    {
      "cell_type": "code",
      "source": [],
      "metadata": {
        "id": "X6oUIQvq7zQ1"
      },
      "execution_count": null,
      "outputs": []
    },
    {
      "cell_type": "code",
      "source": [
        "\n",
        "\n"
      ],
      "metadata": {
        "id": "TB9-71_e7Jpf"
      },
      "execution_count": null,
      "outputs": []
    },
    {
      "cell_type": "code",
      "source": [],
      "metadata": {
        "id": "mw7wrZvs7ru7"
      },
      "execution_count": null,
      "outputs": []
    },
    {
      "cell_type": "code",
      "source": [],
      "metadata": {
        "id": "-qQPk8so7Jwt"
      },
      "execution_count": null,
      "outputs": []
    },
    {
      "cell_type": "code",
      "source": [],
      "metadata": {
        "id": "0Nk7eaXK7JzS"
      },
      "execution_count": null,
      "outputs": []
    },
    {
      "cell_type": "code",
      "source": [],
      "metadata": {
        "id": "yInPGIAO3oCd"
      },
      "execution_count": null,
      "outputs": []
    }
  ]
}